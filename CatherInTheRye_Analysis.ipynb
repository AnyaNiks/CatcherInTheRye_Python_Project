{
  "nbformat": 4,
  "nbformat_minor": 0,
  "metadata": {
    "colab": {
      "provenance": [],
      "toc_visible": true,
      "mount_file_id": "1tafIQNfgF1L7Vc5nlUVzt2SETq_A5mGf",
      "authorship_tag": "ABX9TyPY3xlxHmo+0yAivEJcbVBL",
      "include_colab_link": true
    },
    "kernelspec": {
      "name": "python3",
      "display_name": "Python 3"
    },
    "language_info": {
      "name": "python"
    }
  },
  "cells": [
    {
      "cell_type": "markdown",
      "metadata": {
        "id": "view-in-github",
        "colab_type": "text"
      },
      "source": [
        "<a href=\"https://colab.research.google.com/github/AnyaNiks/CatcherInTheRye_Python_Project/blob/main/CatherInTheRye_Analysis.ipynb\" target=\"_parent\"><img src=\"https://colab.research.google.com/assets/colab-badge.svg\" alt=\"Open In Colab\"/></a>"
      ]
    },
    {
      "cell_type": "markdown",
      "source": [
        "# PDF > TXT"
      ],
      "metadata": {
        "id": "Rr8l1r-NEcWQ"
      }
    },
    {
      "cell_type": "code",
      "source": [
        "!wget https://raw.githubusercontent.com/AnyaNiks/CatcherInTheRye_Python_Project/main/Rye.pdf"
      ],
      "metadata": {
        "colab": {
          "base_uri": "https://localhost:8080/"
        },
        "id": "fyK4EwXfE7yg",
        "outputId": "07be0604-5d54-440f-b3cb-15bc433e8e9b"
      },
      "execution_count": 3,
      "outputs": [
        {
          "output_type": "stream",
          "name": "stdout",
          "text": [
            "--2025-05-23 12:28:36--  https://raw.githubusercontent.com/AnyaNiks/CatcherInTheRye_Python_Project/main/Rye.pdf\n",
            "Resolving raw.githubusercontent.com (raw.githubusercontent.com)... 185.199.108.133, 185.199.109.133, 185.199.110.133, ...\n",
            "Connecting to raw.githubusercontent.com (raw.githubusercontent.com)|185.199.108.133|:443... connected.\n",
            "HTTP request sent, awaiting response... 200 OK\n",
            "Length: 555295 (542K) [application/octet-stream]\n",
            "Saving to: ‘Rye.pdf’\n",
            "\n",
            "Rye.pdf             100%[===================>] 542.28K  --.-KB/s    in 0.05s   \n",
            "\n",
            "2025-05-23 12:28:36 (10.0 MB/s) - ‘Rye.pdf’ saved [555295/555295]\n",
            "\n"
          ]
        }
      ]
    },
    {
      "cell_type": "code",
      "source": [
        "!pip install pymupdf"
      ],
      "metadata": {
        "colab": {
          "base_uri": "https://localhost:8080/"
        },
        "id": "XxbrIJMCEl-v",
        "outputId": "11dee7a1-10b1-46df-de43-e10f5a3e0c1a"
      },
      "execution_count": 4,
      "outputs": [
        {
          "output_type": "stream",
          "name": "stdout",
          "text": [
            "Collecting pymupdf\n",
            "  Downloading pymupdf-1.26.0-cp39-abi3-manylinux2014_x86_64.manylinux_2_17_x86_64.whl.metadata (3.4 kB)\n",
            "Downloading pymupdf-1.26.0-cp39-abi3-manylinux2014_x86_64.manylinux_2_17_x86_64.whl (24.1 MB)\n",
            "\u001b[2K   \u001b[90m━━━━━━━━━━━━━━━━━━━━━━━━━━━━━━━━━━━━━━━━\u001b[0m \u001b[32m24.1/24.1 MB\u001b[0m \u001b[31m23.8 MB/s\u001b[0m eta \u001b[36m0:00:00\u001b[0m\n",
            "\u001b[?25hInstalling collected packages: pymupdf\n",
            "Successfully installed pymupdf-1.26.0\n"
          ]
        }
      ]
    },
    {
      "cell_type": "code",
      "source": [
        "import fitz"
      ],
      "metadata": {
        "id": "giH5ZFl5H_AL"
      },
      "execution_count": 5,
      "outputs": []
    },
    {
      "cell_type": "code",
      "source": [
        "pdf = fitz.open(\"Rye.pdf\")  # Open the PDF file\n",
        "\n",
        "text = \"\"    # Initialize an empty string to store the extracted text\n",
        "# Loop through each page of the PDF\n",
        "for page in pdf:\n",
        "    # Extract text from the page and add it to our variable\n",
        "    text += page.get_text()\n",
        "\n",
        "# Save the full extracted text to a .txt file\n",
        "with open(\"Rye.txt\", \"w\", encoding=\"utf-8\") as f:\n",
        "    f.write(text)\n",
        "\n",
        "print(\"Done!\")"
      ],
      "metadata": {
        "colab": {
          "base_uri": "https://localhost:8080/"
        },
        "id": "P1MdmNNgIcZ_",
        "outputId": "045b8614-62a2-4072-e0aa-a686126b9175"
      },
      "execution_count": 6,
      "outputs": [
        {
          "output_type": "stream",
          "name": "stdout",
          "text": [
            "Done!\n"
          ]
        }
      ]
    },
    {
      "cell_type": "code",
      "source": [
        "from google.colab import files\n",
        "files.download(\"Rye.txt\")"
      ],
      "metadata": {
        "colab": {
          "base_uri": "https://localhost:8080/",
          "height": 17
        },
        "id": "WZ1FajNRIv4N",
        "outputId": "991c6956-8149-47ec-9349-c49c2c67b24a"
      },
      "execution_count": 7,
      "outputs": [
        {
          "output_type": "display_data",
          "data": {
            "text/plain": [
              "<IPython.core.display.Javascript object>"
            ],
            "application/javascript": [
              "\n",
              "    async function download(id, filename, size) {\n",
              "      if (!google.colab.kernel.accessAllowed) {\n",
              "        return;\n",
              "      }\n",
              "      const div = document.createElement('div');\n",
              "      const label = document.createElement('label');\n",
              "      label.textContent = `Downloading \"${filename}\": `;\n",
              "      div.appendChild(label);\n",
              "      const progress = document.createElement('progress');\n",
              "      progress.max = size;\n",
              "      div.appendChild(progress);\n",
              "      document.body.appendChild(div);\n",
              "\n",
              "      const buffers = [];\n",
              "      let downloaded = 0;\n",
              "\n",
              "      const channel = await google.colab.kernel.comms.open(id);\n",
              "      // Send a message to notify the kernel that we're ready.\n",
              "      channel.send({})\n",
              "\n",
              "      for await (const message of channel.messages) {\n",
              "        // Send a message to notify the kernel that we're ready.\n",
              "        channel.send({})\n",
              "        if (message.buffers) {\n",
              "          for (const buffer of message.buffers) {\n",
              "            buffers.push(buffer);\n",
              "            downloaded += buffer.byteLength;\n",
              "            progress.value = downloaded;\n",
              "          }\n",
              "        }\n",
              "      }\n",
              "      const blob = new Blob(buffers, {type: 'application/binary'});\n",
              "      const a = document.createElement('a');\n",
              "      a.href = window.URL.createObjectURL(blob);\n",
              "      a.download = filename;\n",
              "      div.appendChild(a);\n",
              "      a.click();\n",
              "      div.remove();\n",
              "    }\n",
              "  "
            ]
          },
          "metadata": {}
        },
        {
          "output_type": "display_data",
          "data": {
            "text/plain": [
              "<IPython.core.display.Javascript object>"
            ],
            "application/javascript": [
              "download(\"download_7f57d34c-70f5-4325-9e29-20ea76df97e6\", \"Rye.txt\", 389095)"
            ]
          },
          "metadata": {}
        }
      ]
    },
    {
      "cell_type": "code",
      "source": [
        "import string\n",
        "\n",
        "with open(\"Rye.txt\", \"r\", encoding=\"utf-8\") as f:\n",
        "    text = f.read()\n",
        "\n",
        "text = text.lower()\n",
        "text = text.replace(\"“\", '\"').replace(\"”\", '\"').replace(\"’\", \"'\")\n",
        "\n",
        "for p in string.punctuation:\n",
        "    text = text.replace(p, \" \")\n",
        "\n",
        "words = text.split()\n",
        "print(words[:30])"
      ],
      "metadata": {
        "colab": {
          "base_uri": "https://localhost:8080/"
        },
        "id": "YXajwJsyJKsO",
        "outputId": "fdac1a5b-2c80-4398-8558-e9505ccaf556"
      },
      "execution_count": 8,
      "outputs": [
        {
          "output_type": "stream",
          "name": "stdout",
          "text": [
            "['the', 'catcher', 'in', 'the', 'rye', 'by', 'j', 'd', 'salinger', 'to', 'my', 'mother', '1', 'if', 'you', 'really', 'want', 'to', 'hear', 'about', 'it', 'the', 'first', 'thing', 'you', 'll', 'probably', 'want', 'to', 'know']\n"
          ]
        }
      ]
    },
    {
      "cell_type": "code",
      "source": [
        "import re  # We need the 're' module for regular expressions (used to remove extra spaces)\n",
        "\n",
        "# Split the text into lines at each newline character ('\\n')\n",
        "lines = text.split(\"\\n\")\n",
        "\n",
        "# Remove empty lines and strip leading/trailing spaces (this also removes lines that are just whitespace)\n",
        "cleaned_lines = [line.strip() for line in lines if line.strip() != \"\"]\n",
        "\n",
        "# Replace multiple spaces inside each line with a single space without touching quotes\n",
        "cleaned_lines = [re.sub(r'(?<=\\S) {2,}(?=\\S)', ' ', line) for line in cleaned_lines]\n",
        "\n",
        "# Join the cleaned lines back into one block of text\n",
        "# Use two newlines ('\\n\\n') to separate paragraphs\n",
        "cleaned_text = \"\\n\\n\".join(cleaned_lines)\n",
        "\n",
        "# Save the cleaned text into a new file\n",
        "with open(\"Rye_clean.txt\", \"w\", encoding=\"utf-8\") as f:\n",
        "    f.write(cleaned_text)\n",
        "\n",
        "# Step 6: Confirm that the cleaning is done\n",
        "print(\" cleaning done and saved to rye_clean.txt\")"
      ],
      "metadata": {
        "colab": {
          "base_uri": "https://localhost:8080/"
        },
        "id": "boruCf8FJgSE",
        "outputId": "e6a30e81-04de-4e8b-d26d-c35f0c0dd9b8"
      },
      "execution_count": 9,
      "outputs": [
        {
          "output_type": "stream",
          "name": "stdout",
          "text": [
            " cleaning done and saved to rye_clean.txt\n"
          ]
        }
      ]
    },
    {
      "cell_type": "code",
      "source": [
        "from google.colab import files\n",
        "files.download(\"Rye_clean.txt\")"
      ],
      "metadata": {
        "colab": {
          "base_uri": "https://localhost:8080/",
          "height": 17
        },
        "id": "Jg9FkXmSJq6X",
        "outputId": "36cdca23-4f5d-45d2-bc08-94b848359aaf"
      },
      "execution_count": 10,
      "outputs": [
        {
          "output_type": "display_data",
          "data": {
            "text/plain": [
              "<IPython.core.display.Javascript object>"
            ],
            "application/javascript": [
              "\n",
              "    async function download(id, filename, size) {\n",
              "      if (!google.colab.kernel.accessAllowed) {\n",
              "        return;\n",
              "      }\n",
              "      const div = document.createElement('div');\n",
              "      const label = document.createElement('label');\n",
              "      label.textContent = `Downloading \"${filename}\": `;\n",
              "      div.appendChild(label);\n",
              "      const progress = document.createElement('progress');\n",
              "      progress.max = size;\n",
              "      div.appendChild(progress);\n",
              "      document.body.appendChild(div);\n",
              "\n",
              "      const buffers = [];\n",
              "      let downloaded = 0;\n",
              "\n",
              "      const channel = await google.colab.kernel.comms.open(id);\n",
              "      // Send a message to notify the kernel that we're ready.\n",
              "      channel.send({})\n",
              "\n",
              "      for await (const message of channel.messages) {\n",
              "        // Send a message to notify the kernel that we're ready.\n",
              "        channel.send({})\n",
              "        if (message.buffers) {\n",
              "          for (const buffer of message.buffers) {\n",
              "            buffers.push(buffer);\n",
              "            downloaded += buffer.byteLength;\n",
              "            progress.value = downloaded;\n",
              "          }\n",
              "        }\n",
              "      }\n",
              "      const blob = new Blob(buffers, {type: 'application/binary'});\n",
              "      const a = document.createElement('a');\n",
              "      a.href = window.URL.createObjectURL(blob);\n",
              "      a.download = filename;\n",
              "      div.appendChild(a);\n",
              "      a.click();\n",
              "      div.remove();\n",
              "    }\n",
              "  "
            ]
          },
          "metadata": {}
        },
        {
          "output_type": "display_data",
          "data": {
            "text/plain": [
              "<IPython.core.display.Javascript object>"
            ],
            "application/javascript": [
              "download(\"download_436c1f62-050b-499b-b91d-eff303f44f3f\", \"Rye_clean.txt\", 370290)"
            ]
          },
          "metadata": {}
        }
      ]
    }
  ]
}